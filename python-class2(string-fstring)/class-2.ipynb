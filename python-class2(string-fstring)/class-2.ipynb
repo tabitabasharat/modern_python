{
 "cells": [
  {
   "cell_type": "markdown",
   "metadata": {},
   "source": [
    "# string datatype in python"
   ]
  },
  {
   "cell_type": "code",
   "execution_count": 27,
   "metadata": {},
   "outputs": [
    {
     "name": "stdout",
     "output_type": "stream",
     "text": [
      "<class 'str'>\n",
      "bita\n"
     ]
    }
   ],
   "source": [
    "#boundries\n",
    "#\"string text\" , 'string text' , \"\"\" string text\"\"\" , '''string text'''.\n",
    "name : str = \"bita\" # use of double qoutation\n",
    "print(type(name))\n",
    "print(name)"
   ]
  },
  {
   "cell_type": "code",
   "execution_count": 28,
   "metadata": {},
   "outputs": [
    {
     "name": "stdout",
     "output_type": "stream",
     "text": [
      "<class 'str'>\n",
      "bita\n"
     ]
    }
   ],
   "source": [
    "#boundries\n",
    "#\"string text\" , 'string text' , \"\"\" string text\"\"\" , '''string text'''.\n",
    "name : str = 'bita' # use of single quotation\n",
    "print(type(name))\n",
    "print(name)"
   ]
  },
  {
   "cell_type": "code",
   "execution_count": 32,
   "metadata": {},
   "outputs": [
    {
     "name": "stdout",
     "output_type": "stream",
     "text": [
      "PIAIC student card \n",
      " father's name\n"
     ]
    }
   ],
   "source": [
    "message : str =\"PIAIC student card \\n father's name\" \n",
    "print(message)"
   ]
  },
  {
   "cell_type": "code",
   "execution_count": 33,
   "metadata": {},
   "outputs": [
    {
     "name": "stdout",
     "output_type": "stream",
     "text": [
      "PIAIC \"student card\" \n",
      " father name\n"
     ]
    }
   ],
   "source": [
    "message : str ='PIAIC \"student card\" \\n father name' \n",
    "print(message)"
   ]
  },
  {
   "cell_type": "code",
   "execution_count": 34,
   "metadata": {},
   "outputs": [
    {
     "name": "stdout",
     "output_type": "stream",
     "text": [
      "PIAIC \"student card\" \n",
      " father's name\n"
     ]
    }
   ],
   "source": [
    "message : str ='PIAIC \"student card\" \\n father\\'s name' \n",
    "print(message)"
   ]
  },
  {
   "cell_type": "code",
   "execution_count": 36,
   "metadata": {},
   "outputs": [
    {
     "name": "stdout",
     "output_type": "stream",
     "text": [
      "PIAIC student card \n",
      " Student Name: bita\n",
      " Age: 25\n"
     ]
    }
   ],
   "source": [
    "#boundries\n",
    "#\"string text\" , 'string text' , \"\"\" string text\"\"\" , '''string text'''.\n",
    "\n",
    "name : str = 'bita'\n",
    "fname : str = \"basharat\"\n",
    "educaation : str = \"BSCS\"\n",
    "age : int = 25\n",
    "\n",
    "card : str = \"PIAIC student card \\n Student Name: \"+ name + \"\\n Age: \"+str(age) #cannot use age variable because of int.we can concatenate a srting variable with another string not with number or int(integer)\n",
    "print(card)"
   ]
  },
  {
   "cell_type": "markdown",
   "metadata": {},
   "source": [
    "# \"\\\\\" line continue"
   ]
  },
  {
   "cell_type": "code",
   "execution_count": 37,
   "metadata": {},
   "outputs": [
    {
     "name": "stdout",
     "output_type": "stream",
     "text": [
      "17\n"
     ]
    }
   ],
   "source": [
    "print(7 + 6 + 4)"
   ]
  },
  {
   "cell_type": "code",
   "execution_count": 38,
   "metadata": {},
   "outputs": [
    {
     "name": "stdout",
     "output_type": "stream",
     "text": [
      "17\n"
     ]
    }
   ],
   "source": [
    "print(7 + \\\n",
    "      6 + \\\n",
    "        4)"
   ]
  },
  {
   "cell_type": "code",
   "execution_count": 39,
   "metadata": {},
   "outputs": [
    {
     "name": "stdout",
     "output_type": "stream",
     "text": [
      "PIAIC student card \n",
      " Student Name: bita\n",
      " Age: 25\n",
      " Father Name: basharat\n",
      " Education: BSCS\n"
     ]
    }
   ],
   "source": [
    "#boundries\n",
    "#\"string text\" , 'string text' , \"\"\" string text\"\"\" , '''string text'''.\n",
    "\n",
    "name : str = 'bita'\n",
    "fname : str = \"basharat\"\n",
    "education : str = \"BSCS\"\n",
    "age : int = 25\n",
    "\n",
    "card : str = \"PIAIC student card \\n Student Name: \"+ name + \\\n",
    "      \"\\n Age: \"+str(age) + \\\n",
    "      \"\\n Father Name: \" + fname+\\\n",
    "        \"\\n Education: \" + education \n",
    "        \n",
    "print(card)"
   ]
  },
  {
   "cell_type": "markdown",
   "metadata": {},
   "source": [
    "# Define multiline string \"\"\" \"\"\"(double tiple quotation) , ''' '''(single tiple quotation)"
   ]
  },
  {
   "cell_type": "code",
   "execution_count": 40,
   "metadata": {},
   "outputs": [
    {
     "name": "stdout",
     "output_type": "stream",
     "text": [
      "\n",
      "PIAIC student card\n",
      "Student Name: ......\n",
      "Father's Name: ......\n",
      "Age: .....\n",
      "Education: ....\n",
      "\n"
     ]
    }
   ],
   "source": [
    "name : str = 'bita'\n",
    "fname : str = \"basharat\"\n",
    "education : str = \"BSCS\"\n",
    "age : int = 25\n",
    "\n",
    "card: str = \"\"\"\n",
    "PIAIC student card\n",
    "Student Name: ......\n",
    "Father's Name: ......\n",
    "Age: .....\n",
    "Education: ....\n",
    "\"\"\"\n",
    "print(card)"
   ]
  },
  {
   "cell_type": "markdown",
   "metadata": {},
   "source": [
    "# f_string python"
   ]
  },
  {
   "cell_type": "code",
   "execution_count": 41,
   "metadata": {},
   "outputs": [
    {
     "name": "stdout",
     "output_type": "stream",
     "text": [
      "\n",
      "PIAIC student card\n",
      "Student Name: bita\n",
      "Father's Name: basharat\n",
      "Age: 25\n",
      "Education: BSCS\n",
      "\n"
     ]
    }
   ],
   "source": [
    "name : str = 'bita'\n",
    "fname : str = \"basharat\"\n",
    "education : str = \"BSCS\"\n",
    "age : int = 25\n",
    "\n",
    "card: str = f\"\"\"\n",
    "PIAIC student card\n",
    "Student Name: {name}\n",
    "Father's Name: {fname}\n",
    "Age: {age}\n",
    "Education: {education}\n",
    "\"\"\"\n",
    "print(card)"
   ]
  },
  {
   "cell_type": "code",
   "execution_count": 42,
   "metadata": {},
   "outputs": [
    {
     "name": "stdout",
     "output_type": "stream",
     "text": [
      "\n",
      "PIAIC student card\n",
      "Student Name: bita\n",
      "Father's Name: basharat\n",
      "Age: 25\n",
      "Education: BSCS\n",
      "\n"
     ]
    }
   ],
   "source": [
    "name : str = 'bita'\n",
    "fname : str = \"basharat\"\n",
    "education : str = \"BSCS\"\n",
    "age : int = 25\n",
    "\n",
    "card: str = f'''\n",
    "PIAIC student card\n",
    "Student Name: {name}\n",
    "Father's Name: {fname}\n",
    "Age: {age}\n",
    "Education: {education}\n",
    "'''\n",
    "print(card)"
   ]
  },
  {
   "cell_type": "code",
   "execution_count": 44,
   "metadata": {},
   "outputs": [
    {
     "name": "stdout",
     "output_type": "stream",
     "text": [
      "\n",
      "PIAIC student card\n",
      "Student Name: bita\n",
      "Father's Name: basharat\n",
      "Age: 25\n",
      "Education: BSCS\n",
      "\n",
      "total = 462\n",
      "\n"
     ]
    }
   ],
   "source": [
    "name : str = 'bita'\n",
    "fname : str = \"basharat\"\n",
    "education : str = \"BSCS\"\n",
    "age : int = 25\n",
    "\n",
    "card: str = f\"\"\"\n",
    "PIAIC student card\n",
    "Student Name: {name}\n",
    "Father's Name: {fname}\n",
    "Age: {age}                 \n",
    "Education: {education}\n",
    "\n",
    "total = {3+6+453}         # we can concatrnate inside the qoutations \n",
    "\"\"\"\n",
    "print(card)"
   ]
  },
  {
   "cell_type": "markdown",
   "metadata": {},
   "source": [
    "# f_string and jinja style"
   ]
  },
  {
   "cell_type": "code",
   "execution_count": 45,
   "metadata": {},
   "outputs": [
    {
     "data": {
      "text/plain": [
       "'\\nstudent bita  #f_string\\n'"
      ]
     },
     "execution_count": 45,
     "metadata": {},
     "output_type": "execute_result"
    }
   ],
   "source": [
    "#f_string\n",
    "f\"\"\"\n",
    "student {name}  \n",
    "\"\"\""
   ]
  },
  {
   "cell_type": "code",
   "execution_count": 47,
   "metadata": {},
   "outputs": [
    {
     "data": {
      "text/plain": [
       "'\\nstudent {{name}} \\n'"
      ]
     },
     "execution_count": 47,
     "metadata": {},
     "output_type": "execute_result"
    }
   ],
   "source": [
    "#jinja style\n",
    "\"\"\"\n",
    "student {{name}} \n",
    "\"\"\""
   ]
  },
  {
   "cell_type": "markdown",
   "metadata": {},
   "source": [
    "# method and attributes"
   ]
  },
  {
   "cell_type": "code",
   "execution_count": 51,
   "metadata": {},
   "outputs": [
    {
     "data": {
      "text/plain": [
       "['capitalize',\n",
       " 'casefold',\n",
       " 'center',\n",
       " 'count',\n",
       " 'encode',\n",
       " 'endswith',\n",
       " 'expandtabs',\n",
       " 'find',\n",
       " 'format',\n",
       " 'index',\n",
       " 'isalnum',\n",
       " 'isalpha',\n",
       " 'isascii',\n",
       " 'isdecimal',\n",
       " 'isdigit',\n",
       " 'isidentifier',\n",
       " 'islower',\n",
       " 'isnumeric',\n",
       " 'isprintable',\n",
       " 'isspace',\n",
       " 'istitle',\n",
       " 'isupper',\n",
       " 'join',\n",
       " 'ljust',\n",
       " 'lower',\n",
       " 'lstrip',\n",
       " 'maketrans',\n",
       " 'partition',\n",
       " 'removeprefix',\n",
       " 'removesuffix',\n",
       " 'replace',\n",
       " 'rfind',\n",
       " 'rindex',\n",
       " 'rjust',\n",
       " 'rpartition',\n",
       " 'rsplit',\n",
       " 'rstrip',\n",
       " 'split',\n",
       " 'splitlines',\n",
       " 'startswith',\n",
       " 'strip',\n",
       " 'swapcase',\n",
       " 'title',\n",
       " 'translate',\n",
       " 'upper',\n",
       " 'zfill']"
      ]
     },
     "execution_count": 51,
     "metadata": {},
     "output_type": "execute_result"
    }
   ],
   "source": [
    "[i for i in dir (str) if \"_\" not in i]"
   ]
  },
  {
   "cell_type": "code",
   "execution_count": 58,
   "metadata": {},
   "outputs": [
    {
     "name": "stdout",
     "output_type": "stream",
     "text": [
      "Bita muggi\n",
      "bita muggi\n",
      "b'bita muggi'\n"
     ]
    }
   ],
   "source": [
    "name : str = \"bita muggi\"\n",
    "print(name.capitalize())\n",
    "print(name.lower())\n",
    "print(name.encode())"
   ]
  },
  {
   "cell_type": "code",
   "execution_count": 59,
   "metadata": {},
   "outputs": [
    {
     "data": {
      "text/plain": [
       "'pakistan value a 6 and value b 8'"
      ]
     },
     "execution_count": 59,
     "metadata": {},
     "output_type": "execute_result"
    }
   ],
   "source": [
    "a = 6\n",
    "b = 8\n",
    "# {} place holder\n",
    "#  index          0              1          0,1\n",
    "\"pakistan value a {} and value b {}\".format(a,b)"
   ]
  },
  {
   "cell_type": "code",
   "execution_count": 49,
   "metadata": {},
   "outputs": [
    {
     "name": "stdout",
     "output_type": "stream",
     "text": [
      "\n",
      "PIAIC student card\n",
      "Student Name: bita\n",
      "Father's Name: basharat \n",
      "Age: 25              \n",
      "Education:BSCS\n",
      "\n"
     ]
    }
   ],
   "source": [
    "name : str = 'bita'\n",
    "fname : str = \"basharat\"\n",
    "education : str = \"BSCS\"\n",
    "age : int = 25\n",
    "\n",
    "\n",
    "card: str = f\"\"\"\n",
    "PIAIC student card\n",
    "Student Name: %s\n",
    "Father's Name: %s \n",
    "Age: %d              \n",
    "Education:%s\n",
    "\"\"\" % (name,fname,age,education)\n",
    "print(card)"
   ]
  },
  {
   "cell_type": "code",
   "execution_count": 60,
   "metadata": {},
   "outputs": [
    {
     "name": "stdout",
     "output_type": "stream",
     "text": [
      "\n",
      "PIAIC student card\n",
      "Student Name: \n",
      "Father's Name: \n",
      "Age:        \n",
      "Education:\n",
      "\n"
     ]
    }
   ],
   "source": [
    "name : str = 'bita'\n",
    "fname : str = \"basharat\"\n",
    "education : str = \"BSCS\"\n",
    "age : int = 25\n",
    "\n",
    "\n",
    "card: str = f\"\"\"\n",
    "PIAIC student card\n",
    "Student Name: \n",
    "Father's Name: \n",
    "Age:        \n",
    "Education:\n",
    "\"\"\" .format(name,fname,education,age)\n",
    "print(card)"
   ]
  },
  {
   "cell_type": "code",
   "execution_count": 64,
   "metadata": {},
   "outputs": [
    {
     "name": "stdout",
     "output_type": "stream",
     "text": [
      "\n",
      "PIAIC student card\n",
      "Student Name: bita\n",
      "Father's Name: basharat\n",
      "Age: 25       \n",
      "Education:BSCS\n",
      "\n"
     ]
    }
   ],
   "source": [
    "name : str = 'bita'\n",
    "fname : str = \"basharat\"\n",
    "education : str = \"BSCS\"\n",
    "age : int = 25\n",
    "\n",
    "\n",
    "card: str = \"\"\"\n",
    "PIAIC student card\n",
    "Student Name: {2}\n",
    "Father's Name: {0}\n",
    "Age: {1}       \n",
    "Education:{3}\n",
    "\"\"\" .format(fname,age,name,education)\n",
    "#             0    1   2    3    place holder through index\n",
    "print(card)"
   ]
  },
  {
   "cell_type": "code",
   "execution_count": 65,
   "metadata": {},
   "outputs": [
    {
     "name": "stdout",
     "output_type": "stream",
     "text": [
      "\n",
      "PIAIC student card\n",
      "Student Name: bita\n",
      "Father's Name: basharat\n",
      "Age: 25     \n",
      "Education: BSCS\n",
      "\n"
     ]
    }
   ],
   "source": [
    "name : str = 'bita'\n",
    "fname : str = \"basharat\"\n",
    "education : str = \"BSCS\"\n",
    "age : int = 25\n",
    "\n",
    "\n",
    "card: str = \"\"\"\n",
    "PIAIC student card\n",
    "Student Name: {a}\n",
    "Father's Name: {b}\n",
    "Age: {c}     \n",
    "Education: {d}\n",
    "\"\"\" .format(b=fname,c=age,a=name,d=education)\n",
    "# place holder through variables\n",
    "print(card)"
   ]
  },
  {
   "cell_type": "code",
   "execution_count": 68,
   "metadata": {},
   "outputs": [
    {
     "name": "stdout",
     "output_type": "stream",
     "text": [
      "my name is bita\n",
      "13\n"
     ]
    }
   ],
   "source": [
    "student_code:str = \"\"\"\n",
    "print(\"my name is bita\")\n",
    "a: int = 5\n",
    "b: int = 8\n",
    "print(a+b)\n",
    "\"\"\"\n",
    "exec(student_code)"
   ]
  },
  {
   "cell_type": "markdown",
   "metadata": {},
   "source": [
    "# explore string methods and attributes\n",
    " pre-define global functions we have use\n",
    " * print\n",
    " * type\n",
    " * id\n",
    " * dir\n",
    " * len"
   ]
  },
  {
   "cell_type": "code",
   "execution_count": 69,
   "metadata": {},
   "outputs": [
    {
     "name": "stdout",
     "output_type": "stream",
     "text": [
      "['capitalize', 'casefold', 'center', 'count', 'encode', 'endswith', 'expandtabs', 'find', 'format', 'index', 'isalnum', 'isalpha', 'isascii', 'isdecimal', 'isdigit', 'isidentifier', 'islower', 'isnumeric', 'isprintable', 'isspace', 'istitle', 'isupper', 'join', 'ljust', 'lower', 'lstrip', 'maketrans', 'partition', 'removeprefix', 'removesuffix', 'replace', 'rfind', 'rindex', 'rjust', 'rpartition', 'rsplit', 'rstrip', 'split', 'splitlines', 'startswith', 'strip', 'swapcase', 'title', 'translate', 'upper', 'zfill']\n",
      "46\n"
     ]
    }
   ],
   "source": [
    "a:list[str] = [i for i in dir (str) if \"_\" not in i]\n",
    "print(a)\n",
    "print(len(a))"
   ]
  },
  {
   "cell_type": "code",
   "execution_count": 70,
   "metadata": {},
   "outputs": [
    {
     "name": "stdout",
     "output_type": "stream",
     "text": [
      "Bita\n"
     ]
    }
   ],
   "source": [
    "name: str = \"bita\"\n",
    "# varable_name.method\n",
    "print(name.capitalize()) # will capitalize the 1st alphabet"
   ]
  },
  {
   "cell_type": "code",
   "execution_count": 71,
   "metadata": {},
   "outputs": [
    {
     "name": "stdout",
     "output_type": "stream",
     "text": [
      "bita\n"
     ]
    }
   ],
   "source": [
    "name: str = \"bita\"\n",
    "# varable_name.method\n",
    "print(name.casefold()) # it is same as lower_case letter"
   ]
  },
  {
   "cell_type": "code",
   "execution_count": 72,
   "metadata": {},
   "outputs": [
    {
     "data": {
      "text/plain": [
       "'      bita      '"
      ]
     },
     "metadata": {},
     "output_type": "display_data"
    },
    {
     "data": {
      "text/plain": [
       "'bita      '"
      ]
     },
     "metadata": {},
     "output_type": "display_data"
    }
   ],
   "source": [
    "name: str = \"      bita      \"\n",
    "# varable_name.method\n",
    "display(name)           # display is also use to print value/variable\n",
    "display(name.lstrip())  # will backspace the left-side space"
   ]
  },
  {
   "cell_type": "code",
   "execution_count": null,
   "metadata": {},
   "outputs": [],
   "source": [
    "name: str = \"      bita      \"\n",
    "# varable_name.method\n",
    "display(name)\n",
    "display(name.rstrip())  # will backspace the right-side space"
   ]
  },
  {
   "cell_type": "code",
   "execution_count": 73,
   "metadata": {},
   "outputs": [
    {
     "data": {
      "text/plain": [
       "'      bita      '"
      ]
     },
     "metadata": {},
     "output_type": "display_data"
    },
    {
     "data": {
      "text/plain": [
       "'bita'"
      ]
     },
     "metadata": {},
     "output_type": "display_data"
    }
   ],
   "source": [
    "name: str = \"      bita      \"\n",
    "# varable_name.method\n",
    "display(name)           \n",
    "display(name.strip())# will backspace from both-side space"
   ]
  },
  {
   "cell_type": "code",
   "execution_count": 80,
   "metadata": {},
   "outputs": [
    {
     "data": {
      "text/plain": [
       "'        bita          muggi          '"
      ]
     },
     "metadata": {},
     "output_type": "display_data"
    },
    {
     "data": {
      "text/plain": [
       "'bita muggi'"
      ]
     },
     "metadata": {},
     "output_type": "display_data"
    }
   ],
   "source": [
    "import re # re stands for regular expression\n",
    "\n",
    "name: str = \"        bita          muggi          \"\n",
    "display(name)\n",
    "#               pattern,recplacement\n",
    "name1 : str = re.sub('  {2,100}',' ', name).strip()  # sub(subtitute)\n",
    "display(name1)"
   ]
  },
  {
   "cell_type": "code",
   "execution_count": 81,
   "metadata": {},
   "outputs": [
    {
     "data": {
      "text/plain": [
       "'      bita muggi     '"
      ]
     },
     "metadata": {},
     "output_type": "display_data"
    },
    {
     "data": {
      "text/plain": [
       "'      Bita Muggi     '"
      ]
     },
     "metadata": {},
     "output_type": "display_data"
    }
   ],
   "source": [
    "name: str = \"      bita muggi     \"\n",
    "# varable_name.method\n",
    "display(name)\n",
    "display(name.title()) #will capitalize first alphabet of every letter"
   ]
  },
  {
   "cell_type": "code",
   "execution_count": 82,
   "metadata": {},
   "outputs": [
    {
     "name": "stdout",
     "output_type": "stream",
     "text": [
      "hello! ada love ya\n"
     ]
    }
   ],
   "source": [
    "first_name = \"ada\"\n",
    "last_name = \"love ya\"\n",
    "full_name = f\"{first_name} {last_name}\"\n",
    "message =  f\"hello! {first_name} {last_name}\"\n",
    "print(message)"
   ]
  },
  {
   "cell_type": "markdown",
   "metadata": {},
   "source": [
    "# escape sequence"
   ]
  },
  {
   "cell_type": "code",
   "execution_count": 83,
   "metadata": {},
   "outputs": [
    {
     "name": "stdout",
     "output_type": "stream",
     "text": [
      "name:\t bita miggi\n"
     ]
    }
   ],
   "source": [
    "print(\"name:\\t bita miggi\") # use like tab"
   ]
  },
  {
   "cell_type": "code",
   "execution_count": 84,
   "metadata": {},
   "outputs": [
    {
     "name": "stdout",
     "output_type": "stream",
     "text": [
      "name:\n",
      " bita miggi\n"
     ]
    }
   ],
   "source": [
    "print(\"name:\\n bita miggi\") # next line"
   ]
  },
  {
   "cell_type": "code",
   "execution_count": 85,
   "metadata": {},
   "outputs": [
    {
     "name": "stdout",
     "output_type": "stream",
     "text": [
      "name bita miggi\n"
     ]
    }
   ],
   "source": [
    "print(\"name:\\b bita miggi\") # backspace"
   ]
  },
  {
   "cell_type": "code",
   "execution_count": 86,
   "metadata": {},
   "outputs": [
    {
     "data": {
      "text/plain": [
       "'nostrach.com'"
      ]
     },
     "execution_count": 86,
     "metadata": {},
     "output_type": "execute_result"
    }
   ],
   "source": [
    "nostrach_url: str = 'https://nostrach.com'\n",
    "nostrach_url.removeprefix('https://') #remove prefix"
   ]
  }
 ],
 "metadata": {
  "kernelspec": {
   "display_name": "Python 3",
   "language": "python",
   "name": "python3"
  },
  "language_info": {
   "codemirror_mode": {
    "name": "ipython",
    "version": 3
   },
   "file_extension": ".py",
   "mimetype": "text/x-python",
   "name": "python",
   "nbconvert_exporter": "python",
   "pygments_lexer": "ipython3",
   "version": "3.11.6"
  }
 },
 "nbformat": 4,
 "nbformat_minor": 2
}
